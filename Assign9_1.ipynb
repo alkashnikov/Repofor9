{
 "cells": [
  {
   "cell_type": "code",
   "execution_count": 10,
   "id": "0652d91e-f09e-4d74-9e90-dfd33ee148b9",
   "metadata": {
    "tags": []
   },
   "outputs": [],
   "source": [
    "class Animal:\n",
    "    def __init__(self, genus, name, year, sound):\n",
    "        self.genus = genus\n",
    "        self.name = name\n",
    "        self.year_of_birth = year\n",
    "        self.sound = sound\n",
    "\n",
    "    def get_age(self, current_year=2024):\n",
    "        return current_year - self.year_of_birth\n",
    "\n",
    "    def get_info(self):\n",
    "        return (self.name+\" is a \"+self.genus)\n",
    "\n",
    "    def sound(self):\n",
    "        return (self.name+\" sounds like \"+self.sound)"
   ]
  },
  {
   "cell_type": "code",
   "execution_count": 11,
   "id": "7033d6ea-fe4f-42f3-b3f9-95edd6851297",
   "metadata": {
    "tags": []
   },
   "outputs": [],
   "source": [
    "def oldest_animal_function(animals_list, current_year):\n",
    "        oldest_animal = max(animals_list, key=lambda animal: animal.get_age(current_year))\n",
    "        return oldest_animal"
   ]
  },
  {
   "cell_type": "code",
   "execution_count": 12,
   "id": "eb956550-46da-44bf-8669-57e99d88b64d",
   "metadata": {
    "tags": []
   },
   "outputs": [],
   "source": [
    "animal1=Animal(\"dog\",\"Pesik\",2008,\"gav gav\")\n",
    "animal2=Animal(\"cat\",\"Kotik\",2014,\"meow meow\")\n",
    "animal3=Animal(\"pig\",\"Svinka\",1991,\"hru hru\")\n",
    "animals_list = [animal1, animal2, animal3]"
   ]
  },
  {
   "cell_type": "code",
   "execution_count": 20,
   "id": "3f46c0ba-25d0-4f3a-bd5c-eb476929f631",
   "metadata": {
    "tags": []
   },
   "outputs": [
    {
     "name": "stdout",
     "output_type": "stream",
     "text": [
      "dog Pesik\n",
      "cat Kotik meow meow\n",
      "16\n",
      "Pesik is a dog . gav gav\n"
     ]
    }
   ],
   "source": [
    "print(animal1.genus, animal1.name)\n",
    "print(animal2.genus, animal2.name,animal2.sound)\n",
    "current_year=2024\n",
    "print(animal1.get_age())\n",
    "print(animal1.get_info(),\".\", animal1.sound)"
   ]
  },
  {
   "cell_type": "code",
   "execution_count": null,
   "id": "ecc03aef-f062-45f3-93db-ea674b778f5f",
   "metadata": {},
   "outputs": [],
   "source": []
  },
  {
   "cell_type": "code",
   "execution_count": null,
   "id": "224879b5-135c-454a-97e9-08ee199d9906",
   "metadata": {},
   "outputs": [],
   "source": []
  }
 ],
 "metadata": {
  "kernelspec": {
   "display_name": "Python 3 (ipykernel)",
   "language": "python",
   "name": "python3"
  },
  "language_info": {
   "codemirror_mode": {
    "name": "ipython",
    "version": 3
   },
   "file_extension": ".py",
   "mimetype": "text/x-python",
   "name": "python",
   "nbconvert_exporter": "python",
   "pygments_lexer": "ipython3",
   "version": "3.10.9"
  }
 },
 "nbformat": 4,
 "nbformat_minor": 5
}
